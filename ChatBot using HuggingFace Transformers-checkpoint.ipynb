{
 "cells": [
  {
   "cell_type": "markdown",
   "metadata": {},
   "source": [
    "## Building a Simple Chatbot with Transformers Library from HuggingFace"
   ]
  },
  {
   "cell_type": "code",
   "execution_count": null,
   "metadata": {},
   "outputs": [],
   "source": [
    "%pip install -qq tensorflow\n",
    "%pip install transformers==4.42.1 -U\n",
    "%pip install sentencepiece\n",
    "%pip install torch==2.2.2\n",
    "%pip install torchtext==0.17.2\n",
    "%pip install numpy==1.26\n",
    "%pip install --upgrade numpy transformers torch\n"
   ]
  },
  {
   "cell_type": "markdown",
   "metadata": {},
   "source": [
    "### Importing the required tools from the transformers library\n",
    "We use 'AutoModelForSeq2SeqLM' and 'AutoTokenizer' from Hugging Face. These are core tools for using pretrained models for sequence-to-sequence tasks like translation, summarization, and question-answering.\n",
    "\n",
    "#### AutoTokenizer:\n",
    "- Automatically picks the right tokenizer for a given model\n",
    "- Converts raw text into tokens, IDs, attention masks, etc.\n",
    "- Also handles decoding model outputs back into human-readable text\n",
    "\n",
    "#### AutoModelForSeq2SeqLM\n",
    "The AutoModelForSeq2SeqLM class loads a model that's trained for sequence-to-sequence tasks with language modeling heads, such as T5 (Text-to-Text Transfer Transformer), BART, MarianMT, mT5, FLAN-T5, etc.\n",
    "\n",
    "- It handles encoder-decoder behavior\n",
    "- Outputs logits used for generating text\n",
    "- Works seamlessly with .generate() for decoding\n",
    "\n",
    "Check for model types: [Hugging Face Models](https://huggingface.co/models).\n"
   ]
  },
  {
   "cell_type": "code",
   "execution_count": null,
   "metadata": {},
   "outputs": [],
   "source": [
    "from transformers import AutoTokenizer, AutoModelForSeq2SeqLM\n",
    "\n",
    "model_name = \"facebook/blenderbot-400M-distill\" # Select the model\n",
    "\n",
    "\n",
    "model = AutoModelForSeq2SeqLM.from_pretrained(model_name)\n",
    "tokenizer = AutoTokenizer.from_pretrained(model_name)"
   ]
  },
  {
   "cell_type": "markdown",
   "metadata": {},
   "source": [
    "Setting up the chat function to enable real-time interaction with the ChatBot.\n"
   ]
  },
  {
   "cell_type": "code",
   "execution_count": null,
   "metadata": {},
   "outputs": [],
   "source": [
    "\n",
    "def chat_with_bot():\n",
    "    while True:\n",
    "        \n",
    "        input_text = input(\"You: \") # get user input\n",
    "\n",
    "        \n",
    "        if input_text.lower() in [\"quit\", \"exit\", \"bye\"]:\n",
    "            print(\"Chatbot: Goodbye!\") # define exit conditions\n",
    "            break\n",
    "\n",
    "        \n",
    "        inputs = tokenizer.encode(input_text, return_tensors=\"pt\")\n",
    "        outputs = model.generate(inputs, max_new_tokens=150) \n",
    "        response = tokenizer.decode(outputs[0], skip_special_tokens=True).strip() # Tokenize input and generate response\n",
    "\n",
    "        print(\"Chatbot:\", response)\n",
    "\n",
    "\n",
    "chat_with_bot()# start chatting"
   ]
  },
  {
   "cell_type": "markdown",
   "metadata": {},
   "source": [
    "### Trying another language model and comparing the output\n"
   ]
  },
  {
   "cell_type": "code",
   "execution_count": null,
   "metadata": {},
   "outputs": [],
   "source": [
    "import sentencepiece\n",
    "from transformers import AutoTokenizer, AutoModelForSeq2SeqLM\n",
    "\n",
    "model_name = \"google/flan-t5-base\"\n",
    "tokenizer = AutoTokenizer.from_pretrained(model_name)\n",
    "model = AutoModelForSeq2SeqLM.from_pretrained(model_name)"
   ]
  },
  {
   "cell_type": "code",
   "execution_count": null,
   "metadata": {},
   "outputs": [],
   "source": [
    "\n",
    "def chat_with_another_bot():\n",
    "    while True:\n",
    "\n",
    "        input_text = input(\"You: \")\n",
    "\n",
    "\n",
    "        if input_text.lower() in [\"quit\", \"exit\", \"bye\"]:\n",
    "            print(\"Chatbot: Goodbye!\")\n",
    "            break\n",
    "\n",
    "\n",
    "        inputs = tokenizer.encode(input_text, return_tensors=\"pt\")\n",
    "        outputs = model.generate(inputs, max_new_tokens=150) \n",
    "        response = tokenizer.decode(outputs[0], skip_special_tokens=True).strip()\n",
    "        \n",
    "\n",
    "        print(\"Chatbot:\", response)\n",
    "\n",
    "chat_with_another_bot()"
   ]
  }
 ],
 "metadata": {
  "kernelspec": {
   "display_name": "Python 3 (ipykernel)",
   "language": "python",
   "name": "python3"
  },
  "language_info": {
   "codemirror_mode": {
    "name": "ipython",
    "version": 3
   },
   "file_extension": ".py",
   "mimetype": "text/x-python",
   "name": "python",
   "nbconvert_exporter": "python",
   "pygments_lexer": "ipython3",
   "version": "3.12.7"
  },
  "prev_pub_hash": "cb5e5ac53cdc46d67cb32fd01f42a4d930d8a16d47ee21f17c804e4ab9ad587e"
 },
 "nbformat": 4,
 "nbformat_minor": 4
}
